{
 "cells": [
  {
   "cell_type": "markdown",
   "metadata": {
    "deletable": true,
    "editable": true
   },
   "source": [
    "### **CarND-Behavioral-Cloning-P3**\n",
    "**Behavioral-Cloning**\n",
    "\n",
    "This is the third project by me in the field of Deep Mchine learning as part of Udacity Nanodegree for Autonomous driving.\n",
    "\n",
    "While the pervious project was on 'Logistic Classification' of the Deep Neural network model, this one is on the 'Regression' Supervised learning of the Deep Neural network.\n",
    "\n",
    "The objective of this project(Behavioral Cloning) is to train a model to drive a car autonomously on a simulated track. The ability of the model to drive the car autonomously is learned from cloning the behaviour of a human driver. Training data is collected from examples of a human driving in the simulator provided by the Udacity, then fed into a deep learning network which learns the response (steering angle) for every encountered frame in the simulation. In other words, the model is trained to predict an appropriate steering angle for every frame while driving(hence Regression). The model is then validated on a new track to check for generalization of the learned features for performing steering angle prediction.\n",
    "\n",
    "This project is influenced by nvidia paper, Udacity Lab sessions and vivek's blog which I reffered while working on my solution. The Keras Deep Learning library was used with Tensorflow backend, to perform deep learning operations."
   ]
  },
  {
   "cell_type": "markdown",
   "metadata": {
    "deletable": true,
    "editable": true
   },
   "source": [
    "**Behavioral Cloning Project Steps**\n",
    "\n",
    "In Summary, the goals / steps of this project are the following:\n",
    "* Use the simulator to collect data of good driving behavior\n",
    "* Build, a convolution neural network in Keras that predicts steering angles from images\n",
    "* Train and validate the model with a training and validation set\n",
    "* Test that the model successfully drives around track one without leaving the road\n",
    "* Summarize the results with a written report"
   ]
  },
  {
   "cell_type": "markdown",
   "metadata": {
    "deletable": true,
    "editable": true
   },
   "source": [
    "### Data Recording"
   ]
  },
  {
   "cell_type": "markdown",
   "metadata": {},
   "source": [
    "I can either use the data of steering angles and images provided by Udacity, or collect data ourselves by driving a car around a track in Udacity's simulator. \n",
    "\n",
    "Upon analysis of the sample data provided, the sample data has \"Orginal Data Size: 8036\". By ploting the graph on the streeing angle and # of images per streeing angle, we can see that there is more data with steering angle on the left."
   ]
  },
  {
   "cell_type": "markdown",
   "metadata": {},
   "source": [
    "![Data Histogram](images/DataHistogram.png)"
   ]
  },
  {
   "cell_type": "markdown",
   "metadata": {
    "deletable": true,
    "editable": true
   },
   "source": [
    "\n",
    "\n",
    "This is true from the way the track is designed that the Track #1 is more heavy on the left turn than right.\n",
    "So the data is not balanced equally. Also the # of sample data is not sufficient to train the model without under fitting or over fitting the model with just images from center camera and streeing angle.\n",
    "\n",
    "Hence this has been solved by following the below methods i.e Collecting more data, preprocessing and data augumentation.\n",
    "\n",
    "Data Collection:\n",
    "In order to collect more data and more over balanced data, I drove the car in 'Training Mode' where we collect the data.\n",
    "#1. I did around 2 laps of driving to supply enough images and corresponding steering angles to work with.\n",
    "#2. 1 round of lap driving in the opposite direction (clockwise) to collect more data in order to negate the left baised track\n",
    "#3. Drove the car to the edge of the track without recording and corrected back to the center of the road with recording enabled. This will train the model to correct the car or bring it back to the center of the road if it drifts off the road.\n",
    "\n",
    "Once I had my own recorded data, I used the sample data for validation. This way I could use all the data I had collected to train the model and validate the model aganist the sample data provided."
   ]
  },
  {
   "cell_type": "markdown",
   "metadata": {
    "deletable": true,
    "editable": true
   },
   "source": [
    "Training Image:\n",
    "![Training Image](images/Training.png)\n",
    "\n",
    "Reverse Lap Training Image:\n",
    "![Reverse Lap](images/ReverseDir.png)\n",
    "\n",
    "Edge Recovery Image:\n",
    "![Edge Correction](images/edgeCorrection.png)\n",
    "\n",
    "Dirt Pit Recovery Image:\n",
    "![Dirt Correction](images/DirtPitCorrection.png)\n",
    "\n",
    "Corner/Curve Recovery Image:\n",
    "![Corner Correction](images/cornercorrection.png)\n",
    "\n",
    "Bridge Edge Recovery Image:\n",
    "![Bridge Correction](images/BridgeEdgeCorrection.png)"
   ]
  },
  {
   "cell_type": "markdown",
   "metadata": {
    "deletable": true,
    "editable": true
   },
   "source": [
    "Once I had the data captured, I loaded the data of around ~15K images from the csv file. The images are in three colums, snapped from center, right and left cameras. They have a corresponding steering angle -- the steer the car had to make in that frame to stay on the track. I loaded both into images[] and measurements[] arrays. \n",
    "\n",
    "Once I got the steering angles, I increased the value of the steering angle by 20% (multiplied by 1.2) to make the car more responsive. The main reason to do so was while training I went over the edges a few times, and corrected. I wanted the car to avoid those mistakes, so used higher gain on steering angle."
   ]
  },
  {
   "cell_type": "code",
   "execution_count": null,
   "metadata": {
    "collapsed": true,
    "deletable": true,
    "editable": true
   },
   "outputs": [],
   "source": [
    "# Load CSV File for Validation Data       \n",
    "#Get Validation Data (This is Udacity provided same data)\n",
    "Val_lines = []\n",
    "with open('Val_DATA/driving_log.csv') as csvfile2 :\n",
    "    reader = csv.reader(csvfile2)\n",
    "    for line in reader :\n",
    "        Val_lines.append(line)\n",
    "        \n",
    "Val_images = [] # Validation featuers\n",
    "Val_measurments = [] # Validation labels\n",
    "\n",
    "for line in Val_lines :\n",
    "    #print(line[0])\n",
    "    Val_source_path = line[0] # to get the center image file name/paths\n",
    "    Val_file_name = Val_source_path.split('/')[-1]\n",
    "    #print(file_name)\n",
    "    Val_current_path = 'Val_DATA/IMG/'+Val_file_name\n",
    "    Val_image = cv2.imread(Val_current_path)\n",
    "    Val_images.append(Val_image)\n",
    "    Val_measurment = float(line[3]) # to get the steering angle from the csv file\n",
    "    Val_measurments.append(Val_measurment)\n",
    "    \n",
    "X_Val = np.array(Val_images)\n",
    "y_Val = np.array(Val_measurments)"
   ]
  },
  {
   "cell_type": "code",
   "execution_count": null,
   "metadata": {
    "collapsed": true,
    "deletable": true,
    "editable": true
   },
   "outputs": [],
   "source": [
    "Orginal Training Data Size: 14642\n",
    "Orginal Validation Data Size: 8036"
   ]
  },
  {
   "cell_type": "markdown",
   "metadata": {
    "deletable": true,
    "editable": true
   },
   "source": [
    "### Data processing"
   ]
  },
  {
   "cell_type": "markdown",
   "metadata": {
    "deletable": true,
    "editable": true
   },
   "source": [
    "Data processing is done to allow the model to be able to easily work with raw data for training. In this project, I used a generator (keras fit_generator) to build the data processing as it allows for real-time processing of the data without consuming more memory or CPU. The advantage here is that, in the case that if we are working with a very large amount of data, the whole dataset is not loaded into memory at one shot, instead processed batch wise. We can therefore work with a manageable batch of data at a time. Hence the generator is run in parallel to the model, for efficiency. The generator is run in CPU per image, processed and sent to Keras model which is run on Tensorflow in GPU\n",
    "\n",
    "The following processing steps were carried on the data:\n",
    "\n",
    "*Randomly choose from center, left and right camera images:\n",
    "\n",
    "The simulator provides three camera views namely; center, left and right views. Since I am going to use the generator which requires to use only one camera view per generator, I choose randomly from the three views. While using the left and right images, I did add and subtract 0.25 to the steering angles respectively to make up for the camera offsets (Tried with few other values, but felt 0.25 provided best results in terms of stability of the car).\n",
    "\n",
    "*Randomly flip image:\n",
    "\n",
    "In other to balance left and right images, I randomly flip images and change sign on the steering angles. The following figure shows the view from the left, right and center cameras after angles corrected. \n",
    "\n",
    "*Brightness Augmentation:\n",
    "\n",
    "We simulate different brightness occasions by converting image to HSV channel and randomly scaling the V channel.\n",
    "\n",
    "*Image Cropping: \n",
    "\n",
    "The top part of each image has all the trees and senery and bottom part has the car hood. These are not required for the model and may cause unnessary confusion while traning. Hence Cropped the top 60 pixels and bottom 20 pixels using the Keras Cropping function so as to feed the data that is required for the model to train and learn the behavior.\n",
    "\n"
   ]
  },
  {
   "cell_type": "code",
   "execution_count": null,
   "metadata": {
    "collapsed": true,
    "deletable": true,
    "editable": true
   },
   "outputs": [],
   "source": [
    "\n",
    "#simulate different brightness occasions by converting image to HSV channel and randomly scaling the V channel.\n",
    "def transform_brightness(image):\n",
    "    \"\"\"\n",
    "    apply random brightness on the image\n",
    "    \"\"\"\n",
    "    image = cv2.cvtColor(image,cv2.COLOR_RGB2HSV)\n",
    "    random_bright = .25+np.random.uniform()\n",
    "    \n",
    "    # scaling up or down the V channel of HSV\n",
    "    image[:,:,2] = image[:,:,2]*random_bright\n",
    "    return image\n",
    "\n",
    "## Data Augmuntation (Flip Images and steering angle)\n",
    "augmented_images, augmented_angles = [], []\n",
    "def data_augmuntation(images, angles):\n",
    "    for image, angle in zip(images, angles):\n",
    "        augmented_images.append(image)\n",
    "        augmented_angles.append(angle)\n",
    "        augmented_images.append(cv2.flip(image,1))\n",
    "        augmented_angles.append(angle*-1.0)\n",
    "    return augmented_images, augmented_angles\n",
    "\n",
    "def data_flip(image, angle):\n",
    "    augmented_images.append(image)\n",
    "    augmented_angles.append(angle)\n",
    "    # flip image (randomly)\n",
    "    if np.random.randint(2) == 0: \n",
    "        augmented_images.append(cv2.flip(image,1))\n",
    "        augmented_angles.append(angle*-1.0)\n",
    "    return augmented_images, augmented_angles\n",
    "\n",
    "# Load the data\n",
    "images = [] # featuers\n",
    "measurments = [] # labels\n",
    "\n",
    "for line in lines :\n",
    "    for i in range(3) :\n",
    "        #print(line[0])\n",
    "        source_path = line[i] # to get the center, right and left image file name/paths\n",
    "        file_name = source_path.split('/')[-1]\n",
    "        #print(file_name)\n",
    "        current_path = 'Val_DATA/IMG/'+file_name\n",
    "        image = cv2.imread(current_path)\n",
    "        #image = cv2.cvtColor(image,cv2.COLOR_BGR2RGB)\n",
    "        image = transform_brightness(image)\n",
    "        images.append(image) # Images from Center, Left and Right camera are appended into 'images'\n",
    "    correction = 0.20\n",
    "    measurment = float(line[3]) # to get the steering angle from the csv file\n",
    "    measurments.append(measurment) # Steering angle for Center Image\n",
    "    measurments.append(measurment + correction) # Steering angle for Left Image\n",
    "    measurments.append(measurment - correction) # Steering angle for Right Image\n",
    "    \n",
    "augmented_images, augmented_angles = data_augmuntation(images, measurments)\n",
    "X_train = np.array(augmented_images)\n",
    "y_train = np.array(augmented_angles)"
   ]
  },
  {
   "cell_type": "markdown",
   "metadata": {
    "deletable": true,
    "editable": true
   },
   "source": [
    "### Model Training"
   ]
  },
  {
   "cell_type": "markdown",
   "metadata": {
    "deletable": true,
    "editable": true
   },
   "source": [
    "I Selected Nvidia model for final training, because it gave better result after experimenting with other kinds of model (e.g. LeNet, simple models from Lab sessions etc). The Nvidia network consists of 9 layers,which has 5 convolutional layers and 4 fully connected layers Plus a normalization layer and Cropping of image. Converse to the Nvidia model, input image was split to HSV planes before been passed to the network.\n",
    "\n",
    "Each of the layer is activitated by RELU activation.\n",
    "\n",
    "Below is the reference for the Nvidia architecture guidence.\n",
    "\n",
    "https://images.nvidia.com/content/tegra/automotive/images/2016/solutions/pdf/end-to-end-dl-using-px.pdf"
   ]
  },
  {
   "cell_type": "markdown",
   "metadata": {
    "deletable": true,
    "editable": true
   },
   "source": [
    "![Nvidia Arch](img/NvidiaArch.png)"
   ]
  },
  {
   "cell_type": "markdown",
   "metadata": {
    "collapsed": true,
    "deletable": true,
    "editable": true
   },
   "source": [
    "Image was normalized in the first layer. According to the Nvidia paper, this enables normalization also to be accelerated via GPU processing.\n",
    "\n",
    "Convolution are used in the first three layers with 2x2 strides and a 5x5 kernel, and non-strided convolution with 3x3 kernel size in the last two convolutional layers.\n",
    "\n",
    "The convolutional layers are followed by three fully-connected layers which then outputs/predicts the steering angle.\n",
    "\n",
    "Overfitting was reduced by using aggressive Dropout (0.3) on all the Convolution layers and L2 Regularization (0.001) on the first layer. This turned out to be a good practice as the model could generalize to the second track, without using it for training.\n",
    "\n",
    "An Adam optimizer was used for optimization. This requires little or no tunning as the learning rate is adaptive. I run the training model for 3 Epochs as I could see that after it the loss is pretty much flat.\n",
    "\n",
    "Though I had close to 15K sample training data, each epoch consisted of twice the samples (samples_per_epoch=len(train_samples)*2). This made the training more tractable, and since I was using a generator, all of the training data was still used in training, however at different epochs.\n",
    "\n",
    "To conclude, self-recorded data was used for training, while the Udacity-provided samle data was used for validation during training."
   ]
  },
  {
   "cell_type": "code",
   "execution_count": null,
   "metadata": {
    "collapsed": true,
    "deletable": true,
    "editable": true
   },
   "outputs": [],
   "source": [
    "# Nvidia Model used for Behavioural Cloning Project\n",
    "def nvidia_model(time_len=1):\n",
    "    keep_prob = 0.3\n",
    "    reg_val = 0.01\n",
    "    model = Sequential()\n",
    "    model.add(Lambda(lambda x: x / 255.0 - 0.5, input_shape=(160,320,3)))\n",
    "    model.add(Cropping2D(cropping=((60,20),(0,0)))) # Cropping the top 60 and bottom 20 pixels of the images\n",
    "    model.add(Convolution2D(24,5,5,subsample=(2,2),activation='relu', W_regularizer=l2(reg_val)))\n",
    "    model.add(Dropout(keep_prob))\n",
    "    model.add(Convolution2D(36,5,5,subsample=(2,2),activation='relu'))\n",
    "    model.add(Dropout(keep_prob))\n",
    "    model.add(Convolution2D(48,5,5,subsample=(2,2),activation='relu'))\n",
    "    model.add(Dropout(keep_prob))\n",
    "    model.add(Convolution2D(64,3,3,activation='relu'))\n",
    "    model.add(Dropout(keep_prob))\n",
    "    model.add(Convolution2D(64,3,3,activation='relu'))\n",
    "    model.add(Flatten())\n",
    "    model.add(Dense(120))\n",
    "    model.add(Activation('relu'))\n",
    "    model.add(Dense(84))\n",
    "    model.add(Activation('relu'))\n",
    "    model.add(Dense(10))\n",
    "    model.add(Activation('relu'))\n",
    "    model.add(Dense(1))\n",
    "    model.compile(optimizer='adam', loss='mse')\n",
    "    return model"
   ]
  },
  {
   "cell_type": "markdown",
   "metadata": {
    "deletable": true,
    "editable": true
   },
   "source": [
    "### Training and validation"
   ]
  },
  {
   "cell_type": "markdown",
   "metadata": {
    "deletable": true,
    "editable": true
   },
   "source": [
    "The Above Nvidia was the final model I selected to train the model. "
   ]
  },
  {
   "cell_type": "code",
   "execution_count": null,
   "metadata": {
    "collapsed": true,
    "deletable": true,
    "editable": true
   },
   "outputs": [],
   "source": [
    "# Select a Model\n",
    "model = nvidia_model()\n",
    "#model = Lenet_model()\n",
    "\n",
    "\n",
    "history_object = model.fit_generator(train_generator, samples_per_epoch=len(train_samples)*2, validation_data=(X_Val, y_Val), nb_epoch=3)\n",
    "model.save('model.h5')\n",
    "\n",
    "### print the keys contained in the history object\n",
    "print(history_object.history.keys())\n",
    "\n",
    "### plot the training and validation loss for each epoch\n",
    "plt.plot(history_object.history['loss'])\n",
    "plt.plot(history_object.history['val_loss'])\n",
    "plt.title('model mean squared error loss')\n",
    "plt.ylabel('mean squared error loss')\n",
    "plt.xlabel('epoch')\n",
    "plt.legend(['training set', 'validation set'], loc='upper right')\n",
    "plt.show()"
   ]
  },
  {
   "cell_type": "markdown",
   "metadata": {
    "deletable": true,
    "editable": true
   },
   "source": [
    "I trained the model using the keras generator with batch size of 128 for 3 epochs. In each epoch, I generated len(train_samples)*2 images. The entire training took about 5 -7 minutes. However, it too more than few days of trial and error method to arrive at this architecture and training parameters. Snippet below presents the result of training."
   ]
  },
  {
   "cell_type": "markdown",
   "metadata": {
    "deletable": true,
    "editable": true
   },
   "source": [
    "Orginal Training Data Size: 6428\n",
    "Orginal Validation Data Size: 1608\n",
    "no_of_epochs=:Epoch 1/3 \n",
    "50.21875\n",
    "12821/12856 [============================>.] - ETA: 0s - loss: 0.0112   \n",
    "/home/carnd/anaconda3/envs/carnd-term1/lib/python3.5/site-packages/keras/engine/training.py:1569: UserWarning: Epoch comprised more than `samples_per_epoch` samples, which might affect learning results. Set `samples_per_epoch` correctly to avoid this warning.\n",
    "  warnings.warn('Epoch comprised more than '\n",
    "13017/12856 [==============================] - 69s - loss: 0.0112 - val_loss: 0.0180\n",
    "Epoch 2/3\n",
    "12910/12856 [==============================] - 64s - loss: 0.0053 - val_loss: 0.0193\n",
    "Epoch 3/3\n",
    "13052/12856 [==============================] - 55s - loss: 0.0047 - val_loss: 0.0211\n",
    "dict_keys(['val_loss', 'loss'])\n"
   ]
  },
  {
   "cell_type": "markdown",
   "metadata": {
    "deletable": true,
    "editable": true
   },
   "source": [
    "Once I had the best model that I thought will work, then I downloanded the saved mode (model.h5) to the local system to test it out on the simulator.\n"
   ]
  },
  {
   "cell_type": "code",
   "execution_count": null,
   "metadata": {
    "collapsed": true,
    "deletable": true,
    "editable": true
   },
   "outputs": [],
   "source": [
    "\n",
    "scp carnd@54.1.1.1:/home/carnd/CarND-Behavioral-Cloning-P3/model.h5 ."
   ]
  },
  {
   "cell_type": "markdown",
   "metadata": {
    "deletable": true,
    "editable": true
   },
   "source": [
    "Run the below commad to test the model and at the same time save the model o/p to a file to record the simulation."
   ]
  },
  {
   "cell_type": "code",
   "execution_count": null,
   "metadata": {
    "collapsed": true,
    "deletable": true,
    "editable": true
   },
   "outputs": [],
   "source": [
    "(carnd-term1) $ python drive.py model_Final_Nvida_Bri.h5 Final_Nvida_Bri"
   ]
  },
  {
   "cell_type": "markdown",
   "metadata": {
    "deletable": true,
    "editable": true
   },
   "source": [
    "As expected, the car was able to drive and most part of the track #1, it was able to stay close to the center of the road. Once I had the car drive by itself on Track #1 for one full lap (Man was I happy..)exited out of the simulator and generated the video by using the below Udacity provided script - "
   ]
  },
  {
   "cell_type": "code",
   "execution_count": null,
   "metadata": {
    "collapsed": true,
    "deletable": true,
    "editable": true
   },
   "outputs": [],
   "source": [
    "(carnd-term1):CarND-Behavioral-Cloning-P3 vijaynaik$ python video.py Final_Nvida_Bri\n",
    "Creating video Final_Nvida_Bri.mp4, FPS=60\n",
    "[MoviePy] >>>> Building video Final_Nvida_Bri.mp4\n",
    "[MoviePy] Writing video Final_Nvida_Bri.mp4\n",
    "100%|█████████████████████████████████████████████████████████████████████████████████████████████████████████████████████████████████████| 5539/5539 [00:27<00:00, 199.58it/s]\n",
    "[MoviePy] Done.\n",
    "[MoviePy] >>>> Video ready: Final_Nvida_Bri.mp4\n",
    "\n",
    "(carnd-term1) nss-admins-MacBook-Pro-6:CarND-Behavioral-Cloning-P3 vijaynaik$"
   ]
  },
  {
   "cell_type": "markdown",
   "metadata": {
    "deletable": true,
    "editable": true
   },
   "source": [
    "All the required files, this report, images and scripts have been submited as part of project submission package."
   ]
  },
  {
   "cell_type": "markdown",
   "metadata": {
    "deletable": true,
    "editable": true
   },
   "source": [
    "### Conclusion"
   ]
  },
  {
   "cell_type": "markdown",
   "metadata": {
    "deletable": true,
    "editable": true
   },
   "source": [
    "At first it looked simple and straight forward when I was doing all the lab session and thought would be able to complet it soon.\n",
    "\n",
    "As I started exploring the data and started implementing all the required modules, it is then when it started getting complicated. I had to spend close to a week in trying to build various different types of models, trying various different hyper parameters.\n",
    "\n",
    "At times it was fasturating as well to get the model work for just track #1 itself. I had to rebuild the models few times to understand the concept again and have all the right functions and hyper-paramters to finally get the model working. \n",
    "\n",
    "I am happy with the efforts on the track #1. Now my next challange is to get this going on track #2. Once I have track #2 solved, then generalize the model such that the same model works on both the tracks.\n",
    "\n",
    "You can find the o/p of the Model o/p of Track #1 in the below links.\n",
    "\n",
    "#1. Car Camera View Video:\n",
    "https://youtu.be/joLZOyeKu1U"
   ]
  },
  {
   "cell_type": "code",
   "execution_count": 5,
   "metadata": {
    "collapsed": false
   },
   "outputs": [
    {
     "data": {
      "image/jpeg": "[encoded data removed]",
      "text/html": [
       "\n",
       "        <iframe\n",
       "            width=\"400\"\n",
       "            height=\"300\"\n",
       "            src=\"https://www.youtube.com/embed/joLZOyeKu1U\"\n",
       "            frameborder=\"0\"\n",
       "            allowfullscreen\n",
       "        ></iframe>\n",
       "        "
      ],
      "text/plain": [
       "<IPython.lib.display.YouTubeVideo at 0x110619128>"
      ]
     },
     "execution_count": 5,
     "metadata": {},
     "output_type": "execute_result"
    }
   ],
   "source": [
    "from IPython.display import YouTubeVideo\n",
    "YouTubeVideo('joLZOyeKu1U')"
   ]
  },
  {
   "cell_type": "markdown",
   "metadata": {},
   "source": [
    "#2. Complete Car View Vidoe:\n",
    "https://youtu.be/uEzU61ZdIGA"
   ]
  },
  {
   "cell_type": "code",
   "execution_count": 2,
   "metadata": {
    "collapsed": false
   },
   "outputs": [
    {
     "data": {
      "image/jpeg": "[encoded data removed]",
      "text/html": [
       "\n",
       "        <iframe\n",
       "            width=\"400\"\n",
       "            height=\"300\"\n",
       "            src=\"https://www.youtube.com/embed/uEzU61ZdIGA\"\n",
       "            frameborder=\"0\"\n",
       "            allowfullscreen\n",
       "        ></iframe>\n",
       "        "
      ],
      "text/plain": [
       "<IPython.lib.display.YouTubeVideo at 0x1105f9ac8>"
      ]
     },
     "execution_count": 2,
     "metadata": {},
     "output_type": "execute_result"
    }
   ],
   "source": [
    "from IPython.display import YouTubeVideo\n",
    "YouTubeVideo('uEzU61ZdIGA')"
   ]
  },
  {
   "cell_type": "markdown",
   "metadata": {},
   "source": [
    "### Track2 (Challange Track)"
   ]
  },
  {
   "cell_type": "markdown",
   "metadata": {},
   "source": [
    "Final after lots of efforts I was able to successfuly run the same Model on Track#2 as well. (Thanks to Luc Frachon - another student of Udacity for showing that predicted steering angel from the model can be further calibrated in run time as well. This was the majore single parameter change that made my Model work on Track#2.)\n",
    "\n",
    "So all I had to do was calibrate the steering angel by multplying it to get the correct steering angle so the car stays inside the tracks.\n",
    "\n",
    "Below parameter worked for my model. I multiplied the predicted Steering angle by 2.5 in the drive.py.\n",
    "\n",
    "steering_angle = float(model.predict(image_array[None, :, :, :], batch_size=1))*2.5"
   ]
  },
  {
   "cell_type": "markdown",
   "metadata": {},
   "source": [
    "Below are the Vidoe files showing the Model performance on the Track#2.\n",
    "\n",
    "#1. Full Car View:\n",
    "https://youtu.be/D117-ddNcpQ"
   ]
  },
  {
   "cell_type": "code",
   "execution_count": 3,
   "metadata": {
    "collapsed": false
   },
   "outputs": [
    {
     "data": {
      "image/jpeg": "[encoded data removed]",
      "text/html": [
       "\n",
       "        <iframe\n",
       "            width=\"400\"\n",
       "            height=\"300\"\n",
       "            src=\"https://www.youtube.com/embed/D117-ddNcpQ\"\n",
       "            frameborder=\"0\"\n",
       "            allowfullscreen\n",
       "        ></iframe>\n",
       "        "
      ],
      "text/plain": [
       "<IPython.lib.display.YouTubeVideo at 0x110619a20>"
      ]
     },
     "execution_count": 3,
     "metadata": {},
     "output_type": "execute_result"
    }
   ],
   "source": [
    "from IPython.display import YouTubeVideo\n",
    "YouTubeVideo('D117-ddNcpQ')"
   ]
  },
  {
   "cell_type": "markdown",
   "metadata": {},
   "source": [
    "#2. Car Camera View Vidoe: \n",
    "https://youtu.be/9IyZikbVlr4"
   ]
  },
  {
   "cell_type": "code",
   "execution_count": 4,
   "metadata": {
    "collapsed": false
   },
   "outputs": [
    {
     "data": {
      "image/jpeg": "[encoded data removed]",
      "text/html": [
       "\n",
       "        <iframe\n",
       "            width=\"400\"\n",
       "            height=\"300\"\n",
       "            src=\"https://www.youtube.com/embed/9IyZikbVlr4\"\n",
       "            frameborder=\"0\"\n",
       "            allowfullscreen\n",
       "        ></iframe>\n",
       "        "
      ],
      "text/plain": [
       "<IPython.lib.display.YouTubeVideo at 0x1106195c0>"
      ]
     },
     "execution_count": 4,
     "metadata": {},
     "output_type": "execute_result"
    }
   ],
   "source": [
    "from IPython.display import YouTubeVideo\n",
    "YouTubeVideo('9IyZikbVlr4')"
   ]
  },
  {
   "cell_type": "markdown",
   "metadata": {
    "deletable": true,
    "editable": true
   },
   "source": [
    "### Files Included"
   ]
  },
  {
   "cell_type": "markdown",
   "metadata": {
    "deletable": true,
    "editable": true
   },
   "source": [
    "Below are the list of files included in the project submission:\n",
    "    1. train.ipynb - Main Model (containing the script to create and train the model)\n",
    "    2. model_Final_Nvida_Bri.h5  -- containing a trained convolution neural network from train.ipynb\n",
    "    3. drive.py - For driving the car in autonomous mode\n",
    "    4. video.py - Used to create the simulation testing into vidoe file\n",
    "    5. Final_Nvida_Bri.mp4 -- Vidoe of the simulation test run\n",
    "    6. Behavioral Cloning-Report.ipynb -- Project Report (writeup_report summarizing the results)."
   ]
  },
  {
   "cell_type": "code",
   "execution_count": null,
   "metadata": {
    "collapsed": true,
    "deletable": true,
    "editable": true
   },
   "outputs": [],
   "source": []
  }
 ],
 "metadata": {
  "kernelspec": {
   "display_name": "Python 3",
   "language": "python",
   "name": "python3"
  },
  "language_info": {
   "codemirror_mode": {
    "name": "ipython",
    "version": 3
   },
   "file_extension": ".py",
   "mimetype": "text/x-python",
   "name": "python",
   "nbconvert_exporter": "python",
   "pygments_lexer": "ipython3",
   "version": "3.5.2"
  },
  "widgets": {
   "state": {},
   "version": "1.1.2"
  }
 },
 "nbformat": 4,
 "nbformat_minor": 2
}
